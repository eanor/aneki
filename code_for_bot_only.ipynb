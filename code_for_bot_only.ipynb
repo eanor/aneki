{
 "cells": [
  {
   "cell_type": "code",
   "execution_count": 1,
   "metadata": {},
   "outputs": [],
   "source": [
    "import markovify\n",
    "import re\n",
    "import spacy"
   ]
  },
  {
   "cell_type": "code",
   "execution_count": 3,
   "metadata": {},
   "outputs": [],
   "source": [
    "def make_new_themed_anek(t):\n",
    "    with open(f\"{t}.txt\", encoding='utf-8') as f:\n",
    "        text = f.read()\n",
    "    text_model = markovify.Text(text)\n",
    "    \n",
    "    generated_anek = []\n",
    "    \n",
    "    for i in range(2):\n",
    "        a = text_model.make_sentence()\n",
    "        if a != None:\n",
    "            generated_anek.append(str(a))\n",
    "    \n",
    "    text = '\\n'.join(generated_anek)\n",
    "    \n",
    "    return text"
   ]
  },
  {
   "cell_type": "code",
   "execution_count": 4,
   "metadata": {},
   "outputs": [
    {
     "name": "stdout",
     "output_type": "stream",
     "text": [
      "- Василий Иванович, 50 метров, пора! - Рано, Петька! - Пора, Василий Иванович, а твои носки-то воняют сильнее! - Петька, запиши: х*й ему от Советской власти!\n",
      "Петька интересуется: - Василий Иванович и Петька на поляне, отдыхают.\n"
     ]
    }
   ],
   "source": [
    "inp = 'piter'\n",
    "text = make_new_themed_anek(inp)\n",
    "print(str(text))"
   ]
  },
  {
   "cell_type": "code",
   "execution_count": 5,
   "metadata": {},
   "outputs": [],
   "source": [
    "import telebot\n",
    "bot = telebot.TeleBot(\"5248946987:AAEgWI5LUojBD6S5nqcn7VwklC5WuzPtyFU\", parse_mode=None)\n",
    "\n",
    "dict_users_states = {}"
   ]
  },
  {
   "cell_type": "code",
   "execution_count": 6,
   "metadata": {},
   "outputs": [
    {
     "data": {
      "text/plain": [
       "<telebot.types.ReplyKeyboardMarkup at 0x17d430fb9d0>"
      ]
     },
     "execution_count": 6,
     "metadata": {},
     "output_type": "execute_result"
    }
   ],
   "source": [
    "keyboard1 = telebot.types.ReplyKeyboardMarkup()\n",
    "keyboard1.add(\"/help\", \"привет\", \"пока\", \"рандомный анек про вовочку\", 'рандомный анек 18+', 'рандомный анек про компьютеры', 'рандомный анек про блондинок', 'рандомный анек про петю', 'черный юмор', 'про детей', 'габровский анек', 'про медиков', 'про школьников и студентов', 'про алкоголь', 'политический анек', 'про автомобили', 'для детей', 'про русских', 'про евреев', 'про штирлица', 'разное', 'про спорт', 'скинь анек поностальгировать')"
   ]
  },
  {
   "cell_type": "code",
   "execution_count": 7,
   "metadata": {},
   "outputs": [
    {
     "data": {
      "text/plain": [
       "<telebot.types.ReplyKeyboardMarkup at 0x17d430fba60>"
      ]
     },
     "execution_count": 7,
     "metadata": {},
     "output_type": "execute_result"
    }
   ],
   "source": [
    "keyboard1 = telebot.types.ReplyKeyboardMarkup()\n",
    "keyboard1.add(\"/help\", \"привет\", \"пока\", \"рандомный анек про вовочку\", 'рандомный анек 18+', 'рандомный анек про компьютеры', 'рандомный анек про блондинок', 'рандомный анек про петю', 'черный юмор', 'про детей', 'габровский анек', 'про медиков', 'про школьников и студентов', 'про алкоголь', 'политический анек', 'про автомобили', 'для детей', 'про русских', 'про евреев', 'про штирлица', 'разное', 'про спорт', 'скинь анек поностальгировать')"
   ]
  },
  {
   "cell_type": "code",
   "execution_count": 8,
   "metadata": {},
   "outputs": [],
   "source": [
    "@bot.message_handler(commands=[\"start\"])\n",
    "def send_welcome(message):\n",
    "    bot.reply_to(message, \"Привет!/start\", reply_markup=keyboard1)"
   ]
  },
  {
   "cell_type": "code",
   "execution_count": 9,
   "metadata": {},
   "outputs": [],
   "source": [
    "@bot.message_handler(commands=[\"help\"])\n",
    "def bot_messages(message):\n",
    "    text = '''этот бот рассказывает сгенерированный нейросетью анекдот по выбранной теме'''\n",
    "    bot.send_message(message.chat.id, text)"
   ]
  },
  {
   "cell_type": "code",
   "execution_count": 10,
   "metadata": {},
   "outputs": [],
   "source": [
    "@bot.message_handler(content_types=[\"text\"])\n",
    "def send_text(message):\n",
    "    if dict_users_states.get(message.chat.id) != \"stop_now_word\":\n",
    "        if message.text.lower() == \"привет\":\n",
    "            bot.send_message(message.chat.id, \"— Привет, как в кино сходила? У Маринки как дела? Кошка нашлась? Ребенок не болеет? Жалко, что вы с Ваней расстались, он нормальный был.\\n— А ты вообще кто?\\n— А я статусы твои читаю…\\n\")\n",
    "        elif message.text.lower() == \"пока\":\n",
    "            bot.send_message(message.chat.id, \"- Здгавствуйте...\\n- До свидания!\")\n",
    "        elif message.text.lower() == 'рандомный анек про вовочку':\n",
    "            inp = 'vova'\n",
    "            annekdot = make_new_themed_anek(inp)\n",
    "            bot.send_message(message.chat.id, annekdot)\n",
    "        elif message.text.lower() == 'рандомный анек 18+':\n",
    "            inp = 'adults'\n",
    "            annekdot = make_new_themed_anek(inp)\n",
    "            bot.send_message(message.chat.id, annekdot)\n",
    "        elif message.text.lower() == 'рандомный анек про компьютеры':\n",
    "            inp = 'computers'\n",
    "            annekdot = make_new_themed_anek(inp)\n",
    "            bot.send_message(message.chat.id, annekdot)\n",
    "        elif message.text.lower() == 'рандомный анек про блондинок':\n",
    "            inp = 'blondes'\n",
    "            annekdot = make_new_themed_anek(inp)\n",
    "            bot.send_message(message.chat.id, annekdot)\n",
    "        elif message.text.lower() == 'рандомный анек про петю':\n",
    "            inp = 'piter'\n",
    "            annekdot = make_new_themed_anek(inp)\n",
    "            bot.send_message(message.chat.id, annekdot)\n",
    "        elif message.text.lower() == 'черный юмор':\n",
    "            inp = 'black'\n",
    "            annekdot = make_new_themed_anek(inp)\n",
    "            bot.send_message(message.chat.id, annekdot)\n",
    "        elif message.text.lower() == 'про детей':\n",
    "            inp = 'kinder'\n",
    "            annekdot = make_new_themed_anek(inp)\n",
    "            bot.send_message(message.chat.id, annekdot)\n",
    "        elif message.text.lower() == 'габровский анек':\n",
    "            inp = 'gabrovska'\n",
    "            annekdot = make_new_themed_anek(inp)\n",
    "            bot.send_message(message.chat.id, annekdot)\n",
    "        elif message.text.lower() == 'про медиков':\n",
    "            inp = 'medical'\n",
    "            annekdot = make_new_themed_anek(inp)\n",
    "            bot.send_message(message.chat.id, annekdot)\n",
    "        elif message.text.lower() == 'про школьников и студентов':\n",
    "            inp = 'school'\n",
    "            annekdot = make_new_themed_anek(inp)\n",
    "            bot.send_message(message.chat.id, annekdot)\n",
    "        elif message.text.lower() == 'про алкоголь':\n",
    "            inp = 'alcohol'\n",
    "            annekdot = make_new_themed_anek(inp)\n",
    "            bot.send_message(message.chat.id, annekdot)\n",
    "        elif message.text.lower() == 'политический анек':\n",
    "            inp = 'political'\n",
    "            annekdot = make_new_themed_anek(inp)\n",
    "            bot.send_message(message.chat.id, annekdot)\n",
    "        elif message.text.lower() == 'про автомобили':\n",
    "            inp = 'auto'\n",
    "            annekdot = make_new_themed_anek(inp)\n",
    "            bot.send_message(message.chat.id, annekdot)\n",
    "        elif message.text.lower() == 'для детей':\n",
    "            inp = 'child'\n",
    "            annekdot = make_new_themed_anek(inp)\n",
    "            bot.send_message(message.chat.id, annekdot)\n",
    "        elif message.text.lower() == 'про русских':\n",
    "            inp = 'russians'\n",
    "            annekdot = make_new_themed_anek(inp)\n",
    "            bot.send_message(message.chat.id, annekdot)\n",
    "        elif message.text.lower() == 'про евреев':\n",
    "            inp = 'jews'\n",
    "            annekdot = make_new_themed_anek(inp)\n",
    "            bot.send_message(message.chat.id, annekdot)\n",
    "        elif message.text.lower() == 'про штирлица':\n",
    "            inp = 'stirlitz'\n",
    "            annekdot = make_new_themed_anek(inp)\n",
    "            bot.send_message(message.chat.id, annekdot)\n",
    "        elif message.text.lower() == 'разное':\n",
    "            inp = 'different'\n",
    "            annekdot = make_new_themed_anek(inp)\n",
    "            bot.send_message(message.chat.id, annekdot)\n",
    "        elif message.text.lower() == 'про спорт':\n",
    "            inp = 'sport'\n",
    "            annekdot = make_new_themed_anek(inp)\n",
    "            bot.send_message(message.chat.id, annekdot)\n",
    "        elif message.text.lower() == 'скинь анек поностальгировать':\n",
    "            bot.send_photo(message.chat.id, photo=open('ded.jpg', \"rb\"))"
   ]
  },
  {
   "cell_type": "code",
   "execution_count": 11,
   "metadata": {},
   "outputs": [],
   "source": [
    "bot.polling()"
   ]
  },
  {
   "cell_type": "code",
   "execution_count": null,
   "metadata": {},
   "outputs": [],
   "source": []
  }
 ],
 "metadata": {
  "kernelspec": {
   "display_name": "Python 3",
   "language": "python",
   "name": "python3"
  },
  "language_info": {
   "codemirror_mode": {
    "name": "ipython",
    "version": 3
   },
   "file_extension": ".py",
   "mimetype": "text/x-python",
   "name": "python",
   "nbconvert_exporter": "python",
   "pygments_lexer": "ipython3",
   "version": "3.8.5"
  }
 },
 "nbformat": 4,
 "nbformat_minor": 4
}
